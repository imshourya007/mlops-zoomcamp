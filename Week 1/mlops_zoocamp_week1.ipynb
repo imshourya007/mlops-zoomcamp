{
 "cells": [
  {
   "cell_type": "markdown",
   "id": "35f1b4c4",
   "metadata": {},
   "source": [
    "# Homework | Week 1"
   ]
  },
  {
   "cell_type": "code",
   "execution_count": 1,
   "id": "0f23507e",
   "metadata": {},
   "outputs": [],
   "source": [
    "import pandas as pd\n",
    "\n",
    "import numpy as np\n",
    "import seaborn as sns\n",
    "import matplotlib.pyplot as plt\n",
    "\n",
    "from sklearn.feature_extraction import DictVectorizer\n",
    "from sklearn.linear_model import LinearRegression\n",
    "from sklearn.linear_model import Lasso\n",
    "from sklearn.linear_model import Ridge\n",
    "\n",
    "from sklearn.metrics import mean_squared_error\n",
    "\n",
    "import pickle"
   ]
  },
  {
   "cell_type": "markdown",
   "id": "d4ac8a62",
   "metadata": {},
   "source": [
    "### Read the data for January. How many records are there?"
   ]
  },
  {
   "cell_type": "code",
   "execution_count": 2,
   "id": "f5c5481b",
   "metadata": {},
   "outputs": [
    {
     "data": {
      "text/plain": [
       "(1154112, 7)"
      ]
     },
     "execution_count": 2,
     "metadata": {},
     "output_type": "execute_result"
    }
   ],
   "source": [
    "df = pd.read_parquet('./data/fhv_tripdata_2021-01.parquet')\n",
    "df.shape"
   ]
  },
  {
   "cell_type": "markdown",
   "id": "d49da5ab",
   "metadata": {},
   "source": [
    "Ans. 1154112"
   ]
  },
  {
   "cell_type": "markdown",
   "id": "5299f7ef",
   "metadata": {},
   "source": [
    "### What's the average trip duration in January?"
   ]
  },
  {
   "cell_type": "code",
   "execution_count": 3,
   "id": "111982b2",
   "metadata": {},
   "outputs": [
    {
     "data": {
      "text/plain": [
       "19.167224093791006"
      ]
     },
     "execution_count": 3,
     "metadata": {},
     "output_type": "execute_result"
    }
   ],
   "source": [
    "df.pickup_datetime =pd.to_datetime(df.pickup_datetime)   \n",
    "df.dropOff_datetime =pd.to_datetime(df.dropOff_datetime)\n",
    "\n",
    "df['duration'] = df.dropOff_datetime-df.pickup_datetime\n",
    "df.duration = df.duration.apply(lambda td : td.total_seconds()/60)\n",
    "\n",
    "df['duration'].mean()"
   ]
  },
  {
   "cell_type": "markdown",
   "id": "450ff294",
   "metadata": {},
   "source": [
    "Ans. 19.167224093791006"
   ]
  },
  {
   "cell_type": "markdown",
   "id": "c7662e8a",
   "metadata": {},
   "source": [
    "## Data preparation"
   ]
  },
  {
   "cell_type": "markdown",
   "id": "1eb0d2e3",
   "metadata": {},
   "source": [
    "### distribution of the duration variable"
   ]
  },
  {
   "cell_type": "code",
   "execution_count": 4,
   "id": "0a59ed3b",
   "metadata": {},
   "outputs": [
    {
     "name": "stderr",
     "output_type": "stream",
     "text": [
      "/home/mlops_zoomcamp/.local/lib/python3.10/site-packages/seaborn/distributions.py:2619: FutureWarning: `distplot` is a deprecated function and will be removed in a future version. Please adapt your code to use either `displot` (a figure-level function with similar flexibility) or `histplot` (an axes-level function for histograms).\n",
      "  warnings.warn(msg, FutureWarning)\n"
     ]
    },
    {
     "data": {
      "text/plain": [
       "<AxesSubplot:xlabel='duration', ylabel='Density'>"
      ]
     },
     "execution_count": 4,
     "metadata": {},
     "output_type": "execute_result"
    },
    {
     "data": {
      "image/png": "[encoded data removed]",
      "text/plain": [
       "<Figure size 432x288 with 1 Axes>"
      ]
     },
     "metadata": {
      "needs_background": "light"
     },
     "output_type": "display_data"
    }
   ],
   "source": [
    "sns.distplot(df.duration)"
   ]
  },
  {
   "cell_type": "markdown",
   "id": "8664a9d2",
   "metadata": {},
   "source": [
    "### How many records did you drop?"
   ]
  },
  {
   "cell_type": "code",
   "execution_count": 5,
   "id": "cac037ca",
   "metadata": {},
   "outputs": [],
   "source": [
    "df_predrop = df.shape[0]\n",
    "df =df[(df.duration >=1) & (df.duration<=60)]\n",
    "df_postdrop = df.shape[0]\n",
    "count = df_predrop - df_postdrop"
   ]
  },
  {
   "cell_type": "code",
   "execution_count": 6,
   "id": "a118ffb2",
   "metadata": {},
   "outputs": [
    {
     "name": "stdout",
     "output_type": "stream",
     "text": [
      "44286\n"
     ]
    }
   ],
   "source": [
    "print(count)"
   ]
  },
  {
   "cell_type": "markdown",
   "id": "176ef937",
   "metadata": {},
   "source": [
    "Ans. 44286"
   ]
  },
  {
   "cell_type": "markdown",
   "id": "f76edf9b",
   "metadata": {},
   "source": [
    "### What's the fractions of missing values for the pickup location ID? I.e. fraction of \"-1\"s after you filled the NAs"
   ]
  },
  {
   "cell_type": "code",
   "execution_count": 7,
   "id": "68bffb09",
   "metadata": {},
   "outputs": [],
   "source": [
    "df['PUlocationID'] = df['PUlocationID'].replace(np.nan,-1)\n",
    "df['DOlocationID'] = df['DOlocationID'].replace(np.nan,-1)"
   ]
  },
  {
   "cell_type": "code",
   "execution_count": 8,
   "id": "25a125de",
   "metadata": {},
   "outputs": [
    {
     "data": {
      "text/plain": [
       "83.52732770722618"
      ]
     },
     "execution_count": 8,
     "metadata": {},
     "output_type": "execute_result"
    }
   ],
   "source": [
    "(df['PUlocationID']==-1.0).sum()/df_postdrop*100"
   ]
  },
  {
   "cell_type": "markdown",
   "id": "6ab10b1a",
   "metadata": {},
   "source": [
    "Ans. 83.52732770722618%"
   ]
  },
  {
   "cell_type": "markdown",
   "id": "39753548",
   "metadata": {},
   "source": [
    "### What's the dimensionality of this matrix? (The number of columns)"
   ]
  },
  {
   "cell_type": "code",
   "execution_count": 9,
   "id": "9d8d5b69",
   "metadata": {},
   "outputs": [],
   "source": [
    "categorical = ['PUlocationID' , 'DOlocationID']\n",
    "\n",
    "df[categorical]=df[categorical].astype(str)"
   ]
  },
  {
   "cell_type": "code",
   "execution_count": 10,
   "id": "4dbf0f55",
   "metadata": {},
   "outputs": [],
   "source": [
    "dv = DictVectorizer()"
   ]
  },
  {
   "cell_type": "code",
   "execution_count": 11,
   "id": "6b397ac2",
   "metadata": {},
   "outputs": [],
   "source": [
    "train_dicts = df[categorical].to_dict(orient='records')"
   ]
  },
  {
   "cell_type": "code",
   "execution_count": 12,
   "id": "bd8df318",
   "metadata": {},
   "outputs": [],
   "source": [
    "x_train = dv.fit_transform(train_dicts)\n",
    "\n",
    "target = 'duration'\n",
    "y_train = df[target].values"
   ]
  },
  {
   "cell_type": "code",
   "execution_count": 13,
   "id": "238b1045",
   "metadata": {},
   "outputs": [
    {
     "data": {
      "text/plain": [
       "(1109826, 525)"
      ]
     },
     "execution_count": 13,
     "metadata": {},
     "output_type": "execute_result"
    }
   ],
   "source": [
    "x_train.shape"
   ]
  },
  {
   "cell_type": "markdown",
   "id": "dd463469",
   "metadata": {},
   "source": [
    "Ans. 525"
   ]
  },
  {
   "cell_type": "markdown",
   "id": "d1ea313c",
   "metadata": {},
   "source": [
    "### What's the RMSE on train?"
   ]
  },
  {
   "cell_type": "code",
   "execution_count": 14,
   "id": "87dfed94",
   "metadata": {},
   "outputs": [],
   "source": [
    "#training_model part\n",
    "lr = LinearRegression()\n",
    "lr.fit(x_train, y_train)\n",
    "\n",
    "#predicting\n",
    "y_pred = lr.predict(x_train)"
   ]
  },
  {
   "cell_type": "code",
   "execution_count": 15,
   "id": "903bf041",
   "metadata": {},
   "outputs": [
    {
     "data": {
      "text/plain": [
       "array([17.        , 17.        ,  8.28333333, ..., 16.2       ,\n",
       "       19.43333333, 36.        ])"
      ]
     },
     "execution_count": 15,
     "metadata": {},
     "output_type": "execute_result"
    }
   ],
   "source": [
    "y_train"
   ]
  },
  {
   "cell_type": "code",
   "execution_count": 16,
   "id": "16632138",
   "metadata": {},
   "outputs": [
    {
     "data": {
      "text/plain": [
       "10.528519429398262"
      ]
     },
     "execution_count": 16,
     "metadata": {},
     "output_type": "execute_result"
    }
   ],
   "source": [
    "#evalusation part\n",
    "mean_squared_error(y_train,y_pred, squared =False)"
   ]
  },
  {
   "cell_type": "code",
   "execution_count": 17,
   "id": "15551ee6",
   "metadata": {},
   "outputs": [
    {
     "name": "stderr",
     "output_type": "stream",
     "text": [
      "/home/mlops_zoomcamp/.local/lib/python3.10/site-packages/seaborn/distributions.py:2619: FutureWarning: `distplot` is a deprecated function and will be removed in a future version. Please adapt your code to use either `displot` (a figure-level function with similar flexibility) or `histplot` (an axes-level function for histograms).\n",
      "  warnings.warn(msg, FutureWarning)\n",
      "/home/mlops_zoomcamp/.local/lib/python3.10/site-packages/seaborn/distributions.py:2619: FutureWarning: `distplot` is a deprecated function and will be removed in a future version. Please adapt your code to use either `displot` (a figure-level function with similar flexibility) or `histplot` (an axes-level function for histograms).\n",
      "  warnings.warn(msg, FutureWarning)\n"
     ]
    },
    {
     "data": {
      "text/plain": [
       "<matplotlib.legend.Legend at 0x7ffb47b339a0>"
      ]
     },
     "execution_count": 17,
     "metadata": {},
     "output_type": "execute_result"
    },
    {
     "data": {
      "image/png": "[encoded data removed]",
      "text/plain": [
       "<Figure size 432x288 with 1 Axes>"
      ]
     },
     "metadata": {
      "needs_background": "light"
     },
     "output_type": "display_data"
    }
   ],
   "source": [
    "sns.distplot(y_pred , label='prediction')\n",
    "sns.distplot(y_train, label='actual')\n",
    "\n",
    "plt.legend()"
   ]
  },
  {
   "cell_type": "markdown",
   "id": "e4cb345d",
   "metadata": {},
   "source": [
    "Ans. 10.528519429398262"
   ]
  },
  {
   "cell_type": "markdown",
   "id": "588195e7",
   "metadata": {},
   "source": [
    "## Evaluating the model"
   ]
  },
  {
   "cell_type": "code",
   "execution_count": 26,
   "id": "3c9758fb",
   "metadata": {},
   "outputs": [],
   "source": [
    "def read_dataframe(filename):\n",
    "    df = pd.read_parquet(filename)\n",
    "    \n",
    "    df['duration']=df.dropOff_datetime-df.pickup_datetime\n",
    "    df.duration = df.duration.apply(lambda td : td.total_seconds()/60)\n",
    "\n",
    "    df =df[(df.duration >=1) & (df.duration<=60)]\n",
    "    \n",
    "    df['PUlocationID'] = df['PUlocationID'].replace(np.nan,-1)\n",
    "    df['DOlocationID'] = df['DOlocationID'].replace(np.nan,-1)\n",
    "\n",
    "    categorical = ['PUlocationID' , 'DOlocationID']\n",
    "\n",
    "    df[categorical]=df[categorical].astype(str)\n",
    "    \n",
    "    return df"
   ]
  },
  {
   "cell_type": "code",
   "execution_count": 27,
   "id": "fa40860e",
   "metadata": {},
   "outputs": [],
   "source": [
    "df_train = read_dataframe('./data/fhv_tripdata_2021-01.parquet')\n",
    "df_val = read_dataframe('./data/fhv_tripdata_2021-02.parquet')"
   ]
  },
  {
   "cell_type": "code",
   "execution_count": 28,
   "id": "eeca5186",
   "metadata": {},
   "outputs": [],
   "source": [
    "categorical = ['PUlocationID','DOlocationID'] \n",
    "\n",
    "dv = DictVectorizer()"
   ]
  },
  {
   "cell_type": "code",
   "execution_count": 29,
   "id": "b9f17421",
   "metadata": {},
   "outputs": [],
   "source": [
    "\n",
    "train_dicts = df_train[categorical].to_dict(orient='records')\n",
    "X_train = dv.fit_transform(train_dicts)\n",
    "\n",
    "val_dicts = df_val[categorical].to_dict(orient='records')             \n",
    "X_val = dv.transform(val_dicts)"
   ]
  },
  {
   "cell_type": "code",
   "execution_count": 31,
   "id": "99f088d0",
   "metadata": {},
   "outputs": [],
   "source": [
    "target = 'duration'\n",
    "y_train = df_train[target].values\n",
    "y_val = df_val[target].values"
   ]
  },
  {
   "cell_type": "code",
   "execution_count": 33,
   "id": "b1165686",
   "metadata": {},
   "outputs": [
    {
     "data": {
      "text/plain": [
       "11.01428571667195"
      ]
     },
     "execution_count": 33,
     "metadata": {},
     "output_type": "execute_result"
    }
   ],
   "source": [
    "lr = LinearRegression()\n",
    "lr.fit(X_train, y_train)\n",
    "\n",
    "y_pred = lr.predict(X_val)\n",
    "\n",
    "mean_squared_error(y_val, y_pred , squared=False)"
   ]
  },
  {
   "cell_type": "code",
   "execution_count": 36,
   "id": "ae2da550",
   "metadata": {},
   "outputs": [
    {
     "name": "stderr",
     "output_type": "stream",
     "text": [
      "/home/mlops_zoomcamp/.local/lib/python3.10/site-packages/seaborn/distributions.py:2619: FutureWarning: `distplot` is a deprecated function and will be removed in a future version. Please adapt your code to use either `displot` (a figure-level function with similar flexibility) or `histplot` (an axes-level function for histograms).\n",
      "  warnings.warn(msg, FutureWarning)\n",
      "/home/mlops_zoomcamp/.local/lib/python3.10/site-packages/seaborn/distributions.py:2619: FutureWarning: `distplot` is a deprecated function and will be removed in a future version. Please adapt your code to use either `displot` (a figure-level function with similar flexibility) or `histplot` (an axes-level function for histograms).\n",
      "  warnings.warn(msg, FutureWarning)\n"
     ]
    },
    {
     "data": {
      "text/plain": [
       "<matplotlib.legend.Legend at 0x7fface742860>"
      ]
     },
     "execution_count": 36,
     "metadata": {},
     "output_type": "execute_result"
    },
    {
     "data": {
      "image/png": "[encoded data removed]",
      "text/plain": [
       "<Figure size 432x288 with 1 Axes>"
      ]
     },
     "metadata": {
      "needs_background": "light"
     },
     "output_type": "display_data"
    }
   ],
   "source": [
    "sns.distplot(y_pred, label='Prediction')\n",
    "sns.distplot(y_train, label='Actual')\n",
    "\n",
    "plt.legend()"
   ]
  },
  {
   "cell_type": "raw",
   "id": "5f6dbabc",
   "metadata": {},
   "source": [
    "Ans. 11.01428571667195"
   ]
  }
 ],
 "metadata": {
  "kernelspec": {
   "display_name": "Python 3 (ipykernel)",
   "language": "python",
   "name": "python3"
  },
  "language_info": {
   "codemirror_mode": {
    "name": "ipython",
    "version": 3
   },
   "file_extension": ".py",
   "mimetype": "text/x-python",
   "name": "python",
   "nbconvert_exporter": "python",
   "pygments_lexer": "ipython3",
   "version": "3.10.4"
  }
 },
 "nbformat": 4,
 "nbformat_minor": 5
}
